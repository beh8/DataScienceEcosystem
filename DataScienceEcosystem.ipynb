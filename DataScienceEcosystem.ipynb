{
 "cells": [
  {
   "cell_type": "markdown",
   "id": "56a0c648",
   "metadata": {},
   "source": [
    "# Data Science Tools and Ecosystem"
   ]
  },
  {
   "cell_type": "markdown",
   "id": "6c62a3f4",
   "metadata": {},
   "source": [
    "In this notebook, Data Science Tools and Ecosystem are summarized."
   ]
  },
  {
   "cell_type": "markdown",
   "id": "c1a8ea07",
   "metadata": {},
   "source": [
    "Objectives:\\\n",
    "    * List of popular languges in data science\\\n",
    "    * List of popular libraries in data science\\\n",
    "    * Some favorite tools in data data science\\\n",
    "    * An example of arithmetic expression in Python\\\n",
    "    * A convertor code from minute to hour "
   ]
  },
  {
   "cell_type": "markdown",
   "id": "4aa4b741",
   "metadata": {},
   "source": [
    "Some of the popular languages that Data Scientists use are:\\\n",
    "1 - Python\\\n",
    "2 - R\\\n",
    "3 - Java\n"
   ]
  },
  {
   "cell_type": "markdown",
   "id": "0f337871",
   "metadata": {},
   "source": [
    "Some of the commonly used libraries used by Data Scientists include:\\\n",
    "1- Numpy\\\n",
    "2- Pandas\\\n",
    "3- Matplotlib\n"
   ]
  },
  {
   "cell_type": "markdown",
   "id": "3dcf80d2",
   "metadata": {},
   "source": [
    "|Data Science Tools|\n",
    "|------------------|\n",
    "|Jupyter Notebook|\n",
    "|RStudio|\n",
    "|Spyder|\n",
    "\n",
    "\n"
   ]
  },
  {
   "cell_type": "markdown",
   "id": "65c8ae61",
   "metadata": {},
   "source": [
    "### Below are a few examples of evaluating arithmetic expressions in Python"
   ]
  },
  {
   "cell_type": "markdown",
   "id": "3c4c31dc",
   "metadata": {},
   "source": [
    "This a simple arithmetic expression to mutiply then add integers\n"
   ]
  },
  {
   "cell_type": "code",
   "execution_count": 8,
   "id": "8a233ae9",
   "metadata": {},
   "outputs": [
    {
     "data": {
      "text/plain": [
       "17"
      ]
     },
     "execution_count": 8,
     "metadata": {},
     "output_type": "execute_result"
    }
   ],
   "source": [
    "(3*4)+5"
   ]
  },
  {
   "cell_type": "markdown",
   "id": "8f37fec3",
   "metadata": {},
   "source": [
    "This will convert 200 minutes to hours by diving by 60:"
   ]
  },
  {
   "cell_type": "code",
   "execution_count": 11,
   "id": "55f10f42",
   "metadata": {},
   "outputs": [
    {
     "name": "stdout",
     "output_type": "stream",
     "text": [
      "200 min is equal to 3.3333333333333335\n"
     ]
    }
   ],
   "source": [
    "Min = 200\n",
    "Hour = Min/60\n",
    "print(\"200 min is equal to\", Min/60)\n",
    "\n"
   ]
  },
  {
   "cell_type": "markdown",
   "id": "e8853ae7",
   "metadata": {},
   "source": [
    "## Author\n",
    "Behzad Sadri"
   ]
  },
  {
   "cell_type": "code",
   "execution_count": null,
   "id": "29963bca",
   "metadata": {},
   "outputs": [],
   "source": []
  }
 ],
 "metadata": {
  "kernelspec": {
   "display_name": "Python 3 (ipykernel)",
   "language": "python",
   "name": "python3"
  },
  "language_info": {
   "codemirror_mode": {
    "name": "ipython",
    "version": 3
   },
   "file_extension": ".py",
   "mimetype": "text/x-python",
   "name": "python",
   "nbconvert_exporter": "python",
   "pygments_lexer": "ipython3",
   "version": "3.9.13"
  }
 },
 "nbformat": 4,
 "nbformat_minor": 5
}
